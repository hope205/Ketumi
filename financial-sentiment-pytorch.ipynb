{
 "cells": [
  {
   "cell_type": "code",
   "execution_count": 1,
   "id": "e47c6144",
   "metadata": {
    "_cell_guid": "b1076dfc-b9ad-4769-8c92-a6c4dae69d19",
    "_uuid": "8f2839f25d086af736a60e9eeb907d3b93b6e0e5",
    "execution": {
     "iopub.execute_input": "2024-03-30T07:27:15.952748Z",
     "iopub.status.busy": "2024-03-30T07:27:15.951780Z",
     "iopub.status.idle": "2024-03-30T07:27:15.957687Z",
     "shell.execute_reply": "2024-03-30T07:27:15.956700Z"
    },
    "papermill": {
     "duration": 0.013606,
     "end_time": "2024-03-30T07:27:15.960009",
     "exception": false,
     "start_time": "2024-03-30T07:27:15.946403",
     "status": "completed"
    },
    "tags": []
   },
   "outputs": [],
   "source": [
    "# !pip install datasets\n",
    "# !pip install torch\n",
    "# !pip install transformers\n",
    "# !pip install evaluate\n",
    "\n",
    "# # !pip install accelerate -U\n",
    "\n",
    "# !pip install torch\n"
   ]
  },
  {
   "cell_type": "code",
   "execution_count": 2,
   "id": "be429d2b",
   "metadata": {
    "execution": {
     "iopub.execute_input": "2024-03-30T07:27:15.968450Z",
     "iopub.status.busy": "2024-03-30T07:27:15.967922Z",
     "iopub.status.idle": "2024-03-30T07:27:16.809257Z",
     "shell.execute_reply": "2024-03-30T07:27:16.808018Z"
    },
    "papermill": {
     "duration": 0.848357,
     "end_time": "2024-03-30T07:27:16.811883",
     "exception": false,
     "start_time": "2024-03-30T07:27:15.963526",
     "status": "completed"
    },
    "tags": []
   },
   "outputs": [],
   "source": [
    "import pandas as pd\n",
    "import numpy as np"
   ]
  },
  {
   "cell_type": "code",
   "execution_count": 3,
   "id": "02e06843",
   "metadata": {
    "execution": {
     "iopub.execute_input": "2024-03-30T07:27:16.820208Z",
     "iopub.status.busy": "2024-03-30T07:27:16.819690Z",
     "iopub.status.idle": "2024-03-30T07:27:16.914911Z",
     "shell.execute_reply": "2024-03-30T07:27:16.913807Z"
    },
    "papermill": {
     "duration": 0.101858,
     "end_time": "2024-03-30T07:27:16.917160",
     "exception": false,
     "start_time": "2024-03-30T07:27:16.815302",
     "status": "completed"
    },
    "tags": []
   },
   "outputs": [
    {
     "data": {
      "text/html": [
       "<div>\n",
       "<style scoped>\n",
       "    .dataframe tbody tr th:only-of-type {\n",
       "        vertical-align: middle;\n",
       "    }\n",
       "\n",
       "    .dataframe tbody tr th {\n",
       "        vertical-align: top;\n",
       "    }\n",
       "\n",
       "    .dataframe thead th {\n",
       "        text-align: right;\n",
       "    }\n",
       "</style>\n",
       "<table border=\"1\" class=\"dataframe\">\n",
       "  <thead>\n",
       "    <tr style=\"text-align: right;\">\n",
       "      <th></th>\n",
       "      <th>Sentence</th>\n",
       "      <th>Sentiment</th>\n",
       "    </tr>\n",
       "  </thead>\n",
       "  <tbody>\n",
       "    <tr>\n",
       "      <th>0</th>\n",
       "      <td>The GeoSolutions technology will leverage Bene...</td>\n",
       "      <td>positive</td>\n",
       "    </tr>\n",
       "    <tr>\n",
       "      <th>1</th>\n",
       "      <td>$ESI on lows, down $1.50 to $2.50 BK a real po...</td>\n",
       "      <td>negative</td>\n",
       "    </tr>\n",
       "    <tr>\n",
       "      <th>2</th>\n",
       "      <td>For the last quarter of 2010 , Componenta 's n...</td>\n",
       "      <td>positive</td>\n",
       "    </tr>\n",
       "    <tr>\n",
       "      <th>3</th>\n",
       "      <td>According to the Finnish-Russian Chamber of Co...</td>\n",
       "      <td>neutral</td>\n",
       "    </tr>\n",
       "    <tr>\n",
       "      <th>4</th>\n",
       "      <td>The Swedish buyout firm has sold its remaining...</td>\n",
       "      <td>neutral</td>\n",
       "    </tr>\n",
       "    <tr>\n",
       "      <th>...</th>\n",
       "      <td>...</td>\n",
       "      <td>...</td>\n",
       "    </tr>\n",
       "    <tr>\n",
       "      <th>5837</th>\n",
       "      <td>RISING costs have forced packaging producer Hu...</td>\n",
       "      <td>negative</td>\n",
       "    </tr>\n",
       "    <tr>\n",
       "      <th>5838</th>\n",
       "      <td>Nordic Walking was first used as a summer trai...</td>\n",
       "      <td>neutral</td>\n",
       "    </tr>\n",
       "    <tr>\n",
       "      <th>5839</th>\n",
       "      <td>According shipping company Viking Line , the E...</td>\n",
       "      <td>neutral</td>\n",
       "    </tr>\n",
       "    <tr>\n",
       "      <th>5840</th>\n",
       "      <td>In the building and home improvement trade , s...</td>\n",
       "      <td>neutral</td>\n",
       "    </tr>\n",
       "    <tr>\n",
       "      <th>5841</th>\n",
       "      <td>HELSINKI AFX - KCI Konecranes said it has won ...</td>\n",
       "      <td>positive</td>\n",
       "    </tr>\n",
       "  </tbody>\n",
       "</table>\n",
       "<p>5842 rows × 2 columns</p>\n",
       "</div>"
      ],
      "text/plain": [
       "                                               Sentence Sentiment\n",
       "0     The GeoSolutions technology will leverage Bene...  positive\n",
       "1     $ESI on lows, down $1.50 to $2.50 BK a real po...  negative\n",
       "2     For the last quarter of 2010 , Componenta 's n...  positive\n",
       "3     According to the Finnish-Russian Chamber of Co...   neutral\n",
       "4     The Swedish buyout firm has sold its remaining...   neutral\n",
       "...                                                 ...       ...\n",
       "5837  RISING costs have forced packaging producer Hu...  negative\n",
       "5838  Nordic Walking was first used as a summer trai...   neutral\n",
       "5839  According shipping company Viking Line , the E...   neutral\n",
       "5840  In the building and home improvement trade , s...   neutral\n",
       "5841  HELSINKI AFX - KCI Konecranes said it has won ...  positive\n",
       "\n",
       "[5842 rows x 2 columns]"
      ]
     },
     "execution_count": 3,
     "metadata": {},
     "output_type": "execute_result"
    }
   ],
   "source": [
    "data = pd.read_csv('/kaggle/input/financial-sentiment-analysis/data.csv')\n",
    "data"
   ]
  },
  {
   "cell_type": "markdown",
   "id": "ce66131b",
   "metadata": {
    "papermill": {
     "duration": 0.003256,
     "end_time": "2024-03-30T07:27:16.924086",
     "exception": false,
     "start_time": "2024-03-30T07:27:16.920830",
     "status": "completed"
    },
    "tags": []
   },
   "source": [
    "### Convert Pandas DataFrame to Datasets Format; Then Split into Train/Test/Valid Datasets"
   ]
  },
  {
   "cell_type": "code",
   "execution_count": 4,
   "id": "4eff664e",
   "metadata": {
    "execution": {
     "iopub.execute_input": "2024-03-30T07:27:16.932596Z",
     "iopub.status.busy": "2024-03-30T07:27:16.932151Z",
     "iopub.status.idle": "2024-03-30T07:27:18.440705Z",
     "shell.execute_reply": "2024-03-30T07:27:18.439464Z"
    },
    "papermill": {
     "duration": 1.515639,
     "end_time": "2024-03-30T07:27:18.443123",
     "exception": false,
     "start_time": "2024-03-30T07:27:16.927484",
     "status": "completed"
    },
    "tags": []
   },
   "outputs": [
    {
     "name": "stdout",
     "output_type": "stream",
     "text": [
      "Training Data Shape: (4089, 2)\n",
      "Testing Data Shape: (877, 2)\n",
      "Validation Data Shape: (876, 2)\n"
     ]
    }
   ],
   "source": [
    "from datasets import Dataset, DatasetDict, load_metric, load_dataset\n",
    "\n",
    "# Convert pandas dataframe to a dataset\n",
    "dataset = Dataset.from_pandas(data)\n",
    "\n",
    "# Split the datasetdict into train/test/valid subsets\n",
    "train_testvalid = dataset.train_test_split(test_size=0.30)\n",
    "test_valid = train_testvalid['test'].train_test_split(test_size=0.50)\n",
    "\n",
    "# Combine the train/test/valid into one datasetdict\n",
    "dataset = DatasetDict({\n",
    "    'train' : train_testvalid['train'],\n",
    "    'test' : test_valid['test'],\n",
    "    'valid' : test_valid['train']\n",
    "})\n",
    "\n",
    "print('Training Data Shape:', dataset['train'].shape)\n",
    "print('Testing Data Shape:', dataset['test'].shape)\n",
    "print('Validation Data Shape:', dataset['valid'].shape)"
   ]
  },
  {
   "cell_type": "code",
   "execution_count": 5,
   "id": "b2359f3c",
   "metadata": {
    "execution": {
     "iopub.execute_input": "2024-03-30T07:27:18.452121Z",
     "iopub.status.busy": "2024-03-30T07:27:18.451559Z",
     "iopub.status.idle": "2024-03-30T07:27:38.321310Z",
     "shell.execute_reply": "2024-03-30T07:27:38.320174Z"
    },
    "papermill": {
     "duration": 19.877195,
     "end_time": "2024-03-30T07:27:38.324060",
     "exception": false,
     "start_time": "2024-03-30T07:27:18.446865",
     "status": "completed"
    },
    "tags": []
   },
   "outputs": [
    {
     "name": "stderr",
     "output_type": "stream",
     "text": [
      "2024-03-30 07:27:28.754900: E external/local_xla/xla/stream_executor/cuda/cuda_dnn.cc:9261] Unable to register cuDNN factory: Attempting to register factory for plugin cuDNN when one has already been registered\n",
      "2024-03-30 07:27:28.755031: E external/local_xla/xla/stream_executor/cuda/cuda_fft.cc:607] Unable to register cuFFT factory: Attempting to register factory for plugin cuFFT when one has already been registered\n",
      "2024-03-30 07:27:28.903663: E external/local_xla/xla/stream_executor/cuda/cuda_blas.cc:1515] Unable to register cuBLAS factory: Attempting to register factory for plugin cuBLAS when one has already been registered\n"
     ]
    }
   ],
   "source": [
    "import torch\n",
    "from transformers import AutoModelForSequenceClassification, AutoTokenizer, Trainer, AutoTokenizer, AutoModel\n",
    "\n",
    "checkpoint = \"bert-base-uncased\"                          \n",
    "\n"
   ]
  },
  {
   "cell_type": "code",
   "execution_count": null,
   "id": "9e41b0d2",
   "metadata": {
    "papermill": {
     "duration": 0.003503,
     "end_time": "2024-03-30T07:27:38.331917",
     "exception": false,
     "start_time": "2024-03-30T07:27:38.328414",
     "status": "completed"
    },
    "tags": []
   },
   "outputs": [],
   "source": []
  }
 ],
 "metadata": {
  "kaggle": {
   "accelerator": "none",
   "dataSources": [
    {
     "datasetId": 1918992,
     "sourceId": 3205803,
     "sourceType": "datasetVersion"
    }
   ],
   "dockerImageVersionId": 30673,
   "isGpuEnabled": false,
   "isInternetEnabled": true,
   "language": "python",
   "sourceType": "notebook"
  },
  "kernelspec": {
   "display_name": "Python 3",
   "language": "python",
   "name": "python3"
  },
  "language_info": {
   "codemirror_mode": {
    "name": "ipython",
    "version": 3
   },
   "file_extension": ".py",
   "mimetype": "text/x-python",
   "name": "python",
   "nbconvert_exporter": "python",
   "pygments_lexer": "ipython3",
   "version": "3.10.13"
  },
  "papermill": {
   "default_parameters": {},
   "duration": 28.058647,
   "end_time": "2024-03-30T07:27:41.122544",
   "environment_variables": {},
   "exception": null,
   "input_path": "__notebook__.ipynb",
   "output_path": "__notebook__.ipynb",
   "parameters": {},
   "start_time": "2024-03-30T07:27:13.063897",
   "version": "2.5.0"
  }
 },
 "nbformat": 4,
 "nbformat_minor": 5
}
